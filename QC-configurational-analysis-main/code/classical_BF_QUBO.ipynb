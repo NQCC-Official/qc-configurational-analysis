{
 "cells": [
  {
   "cell_type": "markdown",
   "id": "a6b42919-cd63-4bc5-901f-29d325e488b3",
   "metadata": {},
   "source": [
    "# Solving the Graphene Defect Problem with Classical Brute Force"
   ]
  },
  {
   "cell_type": "code",
   "execution_count": 1,
   "id": "96b48c3f-460e-4e4c-b2dc-1228179ab614",
   "metadata": {},
   "outputs": [],
   "source": [
    "import numpy as np\n",
    "import matplotlib.pyplot as plt\n",
    "from scipy.optimize import minimize\n",
    "from scipy.spatial.distance import pdist, squareform\n",
    "\n",
    "import timeit\n",
    "import itertools\n",
    "import sys\n",
    "import os\n",
    "import copy\n",
    "import re\n",
    "\n",
    "import numpy as np\n",
    "import pandas as pd\n",
    "import matplotlib.pyplot as plt\n",
    "import time\n",
    "\n",
    "timestr = time.strftime(\"%Y%m%d-%H%M%S\")\n",
    "\n",
    "plt.rcParams.update(plt.rcParamsDefault)\n",
    "plt.rcParams.update({'font.size': 25})\n",
    "plt.rc('xtick', labelsize=24) \n",
    "plt.rcParams['mathtext.fontset'] = 'stix'\n",
    "plt.rcParams['font.family'] = 'STIXGeneral'\n",
    "\n",
    "from pymatgen.core.structure import Structure\n",
    "from pymatgen.symmetry.analyzer import SpacegroupAnalyzer\n",
    "from pymatgen.analysis.graphs import StructureGraph\n",
    "from pymatgen.io.ase import AseAtomsAdaptor\n",
    "from pymatgen.io.cif import CifWriter\n",
    "\n",
    "from ase.visualize import view\n",
    "\n",
    "from CRYSTALpytools.crystal_io import *\n",
    "from CRYSTALpytools.convert import *\n",
    "sys.path.insert(1,'../')\n",
    "from quantum_computing_functions import *\n",
    "from quantum_computing_postprocessing import *\n",
    "\n",
    "import warnings\n",
    "warnings.filterwarnings('ignore')\n",
    "\n",
    "np.seterr(divide='ignore')\n",
    "plt.style.use('tableau-colorblind10')\n",
    "\n",
    "from pymatgen.core.structure import Structure\n",
    "from pymatgen.symmetry.analyzer import SpacegroupAnalyzer\n",
    "import copy\n",
    "import numpy as np"
   ]
  },
  {
   "cell_type": "markdown",
   "id": "19901749-06a9-4123-ae5c-536cbd57dc61",
   "metadata": {},
   "source": [
    "## Define graphene cell and instance of the problem"
   ]
  },
  {
   "cell_type": "code",
   "execution_count": 2,
   "id": "e57f4a5e-6d2a-41b6-a1f9-0464a9adc30b",
   "metadata": {
    "scrolled": true
   },
   "outputs": [],
   "source": [
    "lattice = np.array([[ 1.233862, -2.137112,  0.      ],\n",
    "                   [ 1.233862,  2.137112,  0.      ],\n",
    "                   [ 0.      ,  0.      ,  8.685038]])\n",
    "\n",
    "graphene = Structure(lattice, species=['C','C'], coords=[[2/3, 1/3, 0. ],[1/3, 2/3, 0.]])\n",
    "graphene = SpacegroupAnalyzer(graphene).get_conventional_standard_structure()\n",
    "\n",
    "num_vac = 3\n",
    "lambda_1 = 3\n",
    "n_supercell = 2\n",
    "\n",
    "scaling_matrix = np.identity(3)*n_supercell\n",
    "scaling_matrix[2][2] = 1\n",
    "graphene_supercell = copy.deepcopy(graphene)\n",
    "graphene_supercell.make_supercell(scaling_matrix)\n",
    "structure = graphene_supercell\n",
    "graphene_supercell.num_sites\n",
    "\n",
    "Q = build_qubo_vacancies(graphene_supercell, num_vac=num_vac, coord_obj=False, lambda_1 = lambda_1, beta=0)\n",
    "# Q"
   ]
  },
  {
   "cell_type": "markdown",
   "id": "17ad8861-c859-4251-8060-bc48eec5d41a",
   "metadata": {},
   "source": [
    "## Brute force algorithm\n",
    "\n",
    "### This approach scales exponentially with the size of the QUBO matrix"
   ]
  },
  {
   "cell_type": "code",
   "execution_count": 1,
   "id": "bbf51b76-5267-4cdc-9e7d-d2c95e2ed52f",
   "metadata": {},
   "outputs": [
    {
     "ename": "NameError",
     "evalue": "name 'Q' is not defined",
     "output_type": "error",
     "traceback": [
      "\u001b[1;31m---------------------------------------------------------------------------\u001b[0m",
      "\u001b[1;31mNameError\u001b[0m                                 Traceback (most recent call last)",
      "Cell \u001b[1;32mIn[1], line 4\u001b[0m\n\u001b[0;32m      1\u001b[0m repeats \u001b[38;5;241m=\u001b[39m \u001b[38;5;241m1\u001b[39m\n\u001b[1;32m----> 4\u001b[0m bitstrings \u001b[38;5;241m=\u001b[39m [np\u001b[38;5;241m.\u001b[39mbinary_repr(i, \u001b[38;5;28mlen\u001b[39m(Q)) \u001b[38;5;28;01mfor\u001b[39;00m i \u001b[38;5;129;01min\u001b[39;00m \u001b[38;5;28mrange\u001b[39m(\u001b[38;5;241m2\u001b[39m \u001b[38;5;241m*\u001b[39m\u001b[38;5;241m*\u001b[39m \u001b[38;5;28mlen\u001b[39m(Q))]\n\u001b[0;32m      5\u001b[0m costs \u001b[38;5;241m=\u001b[39m []\n\u001b[0;32m      6\u001b[0m \u001b[38;5;66;03m# this takes exponential time with the dimension of the QUBO\u001b[39;00m\n",
      "\u001b[1;31mNameError\u001b[0m: name 'Q' is not defined"
     ]
    }
   ],
   "source": [
    "repeats = 1\n",
    "\n",
    "\n",
    "bitstrings = [np.binary_repr(i, len(Q)) for i in range(2 ** len(Q))]\n",
    "costs = []\n",
    "# this takes exponential time with the dimension of the QUBO\n",
    "times = []\n",
    "for i in range(repeats):\n",
    "    start = timeit.default_timer()\n",
    "    \n",
    "    for b in bitstrings:\n",
    "        z = np.array(list(b), dtype=int)\n",
    "        cost = z.T @ Q @ z + ((Q.shape[0] - num_vac) ** 2) * lambda_1\n",
    "        costs.append(cost)\n",
    "    zipped = zip(bitstrings, costs)\n",
    "    sort_zipped = sorted(zipped, key=lambda x: x[1])\n",
    "    print(len(sort_zipped))\n",
    "    print(sort_zipped[:200]) # can increase this number to see other solutions at no extra cost\n",
    "    \n",
    "    # Stop timer\n",
    "    stop = timeit.default_timer()\n",
    "\n",
    "    print('Time: ', stop - start)\n",
    "\n",
    "    times.append(stop - start)"
   ]
  },
  {
   "cell_type": "code",
   "execution_count": 6,
   "id": "151aeb51-32eb-45a5-b9da-83cbd5253e3e",
   "metadata": {},
   "outputs": [
    {
     "name": "stdout",
     "output_type": "stream",
     "text": [
      "[('11111111111111111111111111111111111111111111111111111111111111111111111111111111111111111111111111111111111111111111111111101100', -183.0), ('11111111111111111111111111111111111111111111111111111111111111111111111111111111111111111111111111111111111111111111111111110001', -183.0), ('11111111111111111111111111111111111111111111111111111111111111111111111111111111111111111111111111111111111111111111111111110010', -183.0), ('11111111111111111111111111111111111111111111111111111111111111111111111111111111111111111111111111111111111111111111111111110100', -183.0), ('11111111111111111111111111111111111111111111111111111111111111111111111111111111111111111111111111111111111111111111111111111000', -183.0)]\n"
     ]
    }
   ],
   "source": [
    "np.mean(times)\n",
    "np.std(times)\n",
    "print(sort_zipped[-5:]) "
   ]
  },
  {
   "cell_type": "markdown",
   "id": "e9bf5330-b18b-4600-86a0-4163443b836a",
   "metadata": {},
   "source": [
    "## Now lets only check the solutions with exactly 3 vacancies "
   ]
  },
  {
   "cell_type": "code",
   "execution_count": 7,
   "id": "7774b6e6-29f1-4b33-96a8-e5d278af7acf",
   "metadata": {},
   "outputs": [],
   "source": [
    "##################\n",
    "num_vac = 3\n",
    "lambda_1 = 1\n",
    "n_supercell = 8\n",
    "##################\n",
    "\n",
    "scaling_matrix = np.identity(3)*n_supercell\n",
    "scaling_matrix[2][2] = 1\n",
    "graphene_supercell = copy.deepcopy(graphene)\n",
    "graphene_supercell.make_supercell(scaling_matrix)\n",
    "structure = graphene_supercell\n",
    "graphene_supercell.num_sites\n",
    "\n",
    "Q = build_qubo_vacancies(graphene_supercell, num_vac=num_vac, coord_obj=False, lambda_1 = lambda_1, beta=0)\n",
    "# Q"
   ]
  },
  {
   "cell_type": "markdown",
   "id": "6054f68c-54c8-4a41-8439-78db5aa3c93d",
   "metadata": {},
   "source": [
    "### This is the modified version of brute force used to verify large problems. This effectively changes the unconstained problem (with $2^n$ solutions) to a constrained problem (with $^{n}C_{N_{\\text{vacancies}}}$ solutions)."
   ]
  },
  {
   "cell_type": "code",
   "execution_count": 8,
   "id": "562bbf94-c5d0-41bf-a855-f0a734a44cd4",
   "metadata": {
    "scrolled": true
   },
   "outputs": [
    {
     "name": "stdout",
     "output_type": "stream",
     "text": [
      "8\n",
      "341376\n",
      "[('00111111111111111111111111111111111111111111111111111111111111111011111111111111111111111111111111111111111111111111111111111111', -185.0), ('01111110111111111111111111111111111111111111111111111111111111110111111111111111111111111111111111111111111111111111111111111111', -185.0)]\n",
      "Time:  11.230014905333519\n"
     ]
    }
   ],
   "source": [
    "repeats = 1\n",
    "\n",
    "# Number of variables (assuming an 18-variable problem)\n",
    "\n",
    "\n",
    "# Number of zeros we want in each bitstring\n",
    "num_zeros = 3\n",
    "\n",
    "\n",
    "time_avg_ls = []\n",
    "time_std_ls = []\n",
    "n_supercell_ls = []\n",
    "n_vars_ls = []\n",
    "min_E_ls = []\n",
    "\n",
    "for k in range(1):\n",
    "    times = []\n",
    "    \n",
    "    n_supercell = 8\n",
    "    \n",
    "    scaling_matrix = np.identity(3)*n_supercell\n",
    "    scaling_matrix[2][2] = 1\n",
    "    graphene_supercell = copy.deepcopy(graphene)\n",
    "    graphene_supercell.make_supercell(scaling_matrix)\n",
    "    structure = graphene_supercell\n",
    "    graphene_supercell.num_sites\n",
    "    \n",
    "    Q = build_qubo_vacancies(graphene_supercell, num_vac=num_vac, coord_obj=False, lambda_1 = lambda_1, beta=0)\n",
    "    \n",
    "    n_vars = len(Q)\n",
    "    \n",
    "    # Generate all combinations of indices where zeros can be placed\n",
    "    zero_combinations = itertools.combinations(range(n_vars), num_zeros)\n",
    "    \n",
    "    # Generate the relevant bitstrings with exactly `num_zeros` zeros\n",
    "    bitstrings = []\n",
    "    for zeros in zero_combinations:\n",
    "        bitstring = ['1'] * n_vars\n",
    "        for index in zeros:\n",
    "            bitstring[index] = '0'\n",
    "        bitstrings.append(''.join(bitstring))\n",
    "    \n",
    "    # Prepare to collect the costs\n",
    "    costs = []\n",
    "    \n",
    "    # Run the brute force search with the filtered bitstrings\n",
    "    \n",
    "    for i in range(repeats):\n",
    "        \n",
    "        start = timeit.default_timer()\n",
    "        \n",
    "        for b in bitstrings:\n",
    "            z = np.array(list(b), dtype=int)\n",
    "            cost = z.T @ Q @ z + ((Q.shape[0] - num_vac) ** 2) * lambda_1\n",
    "            costs.append(cost)\n",
    "    \n",
    "        # Zip and sort the results by cost\n",
    "        zipped = zip(bitstrings, costs)\n",
    "        sort_zipped = sorted(zipped, key=lambda x: x[1])\n",
    "        \n",
    "        # Print the top solutions\n",
    "        print(n_supercell)\n",
    "        print(len(sort_zipped))\n",
    "        print(sort_zipped[:2])  # Increase this number to see other solutions if needed\n",
    "        # print(sort_zipped[-2:]) \n",
    "        \n",
    "        # Stop timer\n",
    "        stop = timeit.default_timer()\n",
    "    \n",
    "        print('Time: ', stop - start)\n",
    "    \n",
    "        times.append(stop - start)\n",
    "\n",
    "    time_avg = np.average(times)\n",
    "    time_avg_ls.append(time_avg)\n",
    "    time_std = np.std(times)\n",
    "    time_std_ls.append(time_std)\n",
    "    \n",
    "    n_supercell_ls.append(n_supercell)\n",
    "    n_vars_ls.append(n_vars)\n",
    "    min_E = sort_zipped[0][1]\n",
    "    min_E_ls.append(min_E)\n",
    "    \n",
    "\n",
    "df = pd.DataFrame({'n_supercell':[n_supercell_ls],\n",
    "              'n_vars':[n_vars_ls],\n",
    "              'min_E':[min_E_ls],\n",
    "              'time_avg':[time_avg_ls],\n",
    "                'time_std':[time_std_ls]\n",
    "             })\n",
    "\n",
    "\n",
    "\n",
    "path = f'RawResults/nsuper{n_supercell}_{timestr}.csv'\n",
    "                \n",
    "# Save the DataFrame to a CSV file\n",
    "df.to_csv(path, index=False, float_format='%.15g')\n",
    "\n",
    "\n"
   ]
  },
  {
   "cell_type": "code",
   "execution_count": 9,
   "id": "358721ae-594d-460e-bc2d-af0f49d8e663",
   "metadata": {},
   "outputs": [
    {
     "data": {
      "text/plain": [
       "-185.0"
      ]
     },
     "execution_count": 9,
     "metadata": {},
     "output_type": "execute_result"
    }
   ],
   "source": [
    "sort_zipped[0][1]"
   ]
  },
  {
   "cell_type": "code",
   "execution_count": null,
   "id": "c1e47842-720a-4eca-8f4a-e2a6c97b1dbc",
   "metadata": {},
   "outputs": [],
   "source": []
  }
 ],
 "metadata": {
  "kernelspec": {
   "display_name": "Python 3 (ipykernel)",
   "language": "python",
   "name": "python3"
  },
  "language_info": {
   "codemirror_mode": {
    "name": "ipython",
    "version": 3
   },
   "file_extension": ".py",
   "mimetype": "text/x-python",
   "name": "python",
   "nbconvert_exporter": "python",
   "pygments_lexer": "ipython3",
   "version": "3.12.8"
  }
 },
 "nbformat": 4,
 "nbformat_minor": 5
}
